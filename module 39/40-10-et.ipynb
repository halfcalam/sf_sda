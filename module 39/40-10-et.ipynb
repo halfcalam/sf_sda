{
 "cells": [
  {
   "cell_type": "code",
   "execution_count": 121,
   "metadata": {},
   "outputs": [],
   "source": [
    "import pandas as pd\n",
    "import statistics as s\n",
    "\n",
    "users = pd.read_csv('users.csv', sep='\\t', encoding=\"koi8-r\")\n",
    "users.columns = ['user_id', 'email', 'geo']\n",
    "\n",
    "log = pd.read_csv(\"log.csv\", header=None)\n",
    "log.columns = ['user_id', 'time', 'bet', 'win']\n",
    "\n",
    "log[['bet', 'win']] = log[['bet', 'win']].fillna(0)\n",
    "log['net'] = log['win']-log['bet']\n",
    "\n",
    "log.time = log.time.str.strip('[')\n",
    "log['time'] = pd.to_datetime(log['time'], format='%Y-%m-%d %H:%M:%S')\n",
    "\n",
    "# Приведем признак user_id к одному формату в обоих датасетах  \n",
    "users.user_id = users.user_id.apply(lambda x: x.lower())\n",
    "\n",
    "# Избавимся от ошибок в user_id  \n",
    "log = log[log.user_id != '#error']  \n",
    "log.user_id = log.user_id.str.split(' - ').apply(lambda x: x[1])\n",
    "\n",
    "merged_df = pd.merge(users, log, on='user_id')"
   ]
  },
  {
   "cell_type": "markdown",
   "metadata": {},
   "source": [
    "40.10.1"
   ]
  },
  {
   "cell_type": "code",
   "execution_count": 122,
   "metadata": {},
   "outputs": [
    {
     "data": {
      "text/plain": [
       "1986.0"
      ]
     },
     "execution_count": 122,
     "metadata": {},
     "output_type": "execute_result"
    }
   ],
   "source": [
    "merged_df.groupby('user_id')['net'].sum().median()"
   ]
  },
  {
   "cell_type": "markdown",
   "metadata": {},
   "source": [
    "40.10.2"
   ]
  },
  {
   "cell_type": "code",
   "execution_count": 123,
   "metadata": {},
   "outputs": [
    {
     "data": {
      "text/plain": [
       "5.05"
      ]
     },
     "execution_count": 123,
     "metadata": {},
     "output_type": "execute_result"
    }
   ],
   "source": [
    "users_with_bets = merged_df[merged_df['bet']>0]['user_id'].unique()\n",
    "\n",
    "merged_df[(merged_df['bet'] == 0) & (merged_df['user_id'].isin(users_with_bets))].groupby('user_id')['bet'].count().mean()"
   ]
  },
  {
   "cell_type": "markdown",
   "metadata": {},
   "source": [
    "40.10.3"
   ]
  },
  {
   "cell_type": "code",
   "execution_count": 124,
   "metadata": {},
   "outputs": [],
   "source": [
    "first_visit_without_bet = merged_df[merged_df['bet'] == 0].groupby('user_id')['time'].min()\n",
    "first_bet = merged_df[merged_df['bet'] > 0].groupby('user_id')['time'].min()\n",
    "\n",
    "user_idle_time = (first_bet - first_visit_without_bet)"
   ]
  },
  {
   "cell_type": "code",
   "execution_count": 125,
   "metadata": {},
   "outputs": [
    {
     "data": {
      "text/plain": [
       "49"
      ]
     },
     "execution_count": 125,
     "metadata": {},
     "output_type": "execute_result"
    }
   ],
   "source": [
    "user_idle_time[user_idle_time>pd.Timedelta('-1us')].mean().days"
   ]
  },
  {
   "cell_type": "markdown",
   "metadata": {},
   "source": [
    "40.10.4"
   ]
  },
  {
   "cell_type": "code",
   "execution_count": 126,
   "metadata": {},
   "outputs": [
    {
     "data": {
      "text/plain": [
       "geo\n",
       "Москва             11959741.0\n",
       "Воронеж              184338.0\n",
       "Санкт-Петербург      151007.0\n",
       "Казань                97806.0\n",
       "Ярославль             97441.0\n",
       "Ижевск                84895.0\n",
       "Красноярск            84767.0\n",
       "Арзангелтск           74375.0\n",
       "Пермь                 67734.0\n",
       "Хабаровск             65459.0\n",
       "Краснодар             62718.0\n",
       "Ставрополь            46003.0\n",
       "Екатеринбург          36682.0\n",
       "Тюмень                 4701.0\n",
       "Name: win, dtype: float64"
      ]
     },
     "execution_count": 126,
     "metadata": {},
     "output_type": "execute_result"
    }
   ],
   "source": [
    "merged_df.groupby('geo')['win'].sum().sort_values(ascending=False)"
   ]
  },
  {
   "cell_type": "markdown",
   "metadata": {},
   "source": [
    "40.10.5"
   ]
  },
  {
   "cell_type": "code",
   "execution_count": 127,
   "metadata": {},
   "outputs": [
    {
     "data": {
      "text/plain": [
       "127.81602335164835"
      ]
     },
     "execution_count": 127,
     "metadata": {},
     "output_type": "execute_result"
    }
   ],
   "source": [
    "merged_df[merged_df['bet'] > 0].groupby('geo')['bet'].mean().max()/merged_df[merged_df['bet'] > 0].groupby('geo')['bet'].mean().min()"
   ]
  },
  {
   "cell_type": "markdown",
   "metadata": {},
   "source": [
    "40.10.6"
   ]
  },
  {
   "cell_type": "code",
   "execution_count": 128,
   "metadata": {},
   "outputs": [
    {
     "data": {
      "text/plain": [
       "geo\n",
       "Арзангелтск         96\n",
       "Воронеж             88\n",
       "Екатеринбург        49\n",
       "Ижевск              61\n",
       "Казань              66\n",
       "Краснодар           86\n",
       "Красноярск          56\n",
       "Москва              61\n",
       "Пермь               55\n",
       "Санкт-Петербург    115\n",
       "Ставрополь          36\n",
       "Тюмень              32\n",
       "Хабаровск           60\n",
       "Ярославль           89\n",
       "Name: user_id, dtype: int64"
      ]
     },
     "execution_count": 128,
     "metadata": {},
     "output_type": "execute_result"
    }
   ],
   "source": [
    "merged_df.groupby('geo')['user_id'].count()"
   ]
  }
 ],
 "metadata": {
  "interpreter": {
   "hash": "4b75131badef1596ad080b4035513623dfc25aaad4d3afc163cab39aca08d0d0"
  },
  "kernelspec": {
   "display_name": "Python 3.10.0 64-bit",
   "language": "python",
   "name": "python3"
  },
  "language_info": {
   "codemirror_mode": {
    "name": "ipython",
    "version": 3
   },
   "file_extension": ".py",
   "mimetype": "text/x-python",
   "name": "python",
   "nbconvert_exporter": "python",
   "pygments_lexer": "ipython3",
   "version": "3.10.0"
  },
  "orig_nbformat": 4
 },
 "nbformat": 4,
 "nbformat_minor": 2
}
