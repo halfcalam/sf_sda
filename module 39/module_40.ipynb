{
 "cells": [
  {
   "cell_type": "code",
   "execution_count": 169,
   "metadata": {},
   "outputs": [],
   "source": [
    "import pandas as pd\n",
    "import numpy as np"
   ]
  },
  {
   "cell_type": "code",
   "execution_count": 170,
   "metadata": {},
   "outputs": [],
   "source": [
    "log = pd.read_csv('log.csv', header = None)\n",
    "log.columns = ['user_id', 'time', 'bet', 'win']\n",
    "\n",
    "users = pd.read_csv('users.csv', sep='\\t', encoding = 'koi8-r')\n",
    "users.columns = ['user_id', 'email', 'geo']"
   ]
  },
  {
   "cell_type": "code",
   "execution_count": 171,
   "metadata": {},
   "outputs": [],
   "source": [
    "def correct_user_id(incorrect_user_id):\n",
    "    return incorrect_user_id.split('Запись пользователя № - ')[1] if not '#error' in incorrect_user_id else ''\n",
    "log['user_id'] = log['user_id'].apply(correct_user_id)\n",
    "\n",
    "log['time'] = log['time'].str.strip('[')"
   ]
  },
  {
   "cell_type": "code",
   "execution_count": 172,
   "metadata": {},
   "outputs": [
    {
     "data": {
      "text/plain": [
       "Timestamp('2019-04-20 18:10:07')"
      ]
     },
     "execution_count": 172,
     "metadata": {},
     "output_type": "execute_result"
    }
   ],
   "source": [
    "log_df = log.copy()\n",
    "log_df = log_df.dropna(axis=0, subset=['user_id', 'time'])\n",
    "log_df = log_df.drop_duplicates(subset=['user_id', 'time'])\n",
    "log_df['time'] = pd.to_datetime(log_df['time'])\n",
    "log_df['time'].max()"
   ]
  },
  {
   "cell_type": "code",
   "execution_count": 173,
   "metadata": {},
   "outputs": [
    {
     "data": {
      "text/plain": [
       "36    25\n",
       "31    23\n",
       "6     22\n",
       "50    22\n",
       "43    21\n",
       "53    21\n",
       "14    21\n",
       "18    21\n",
       "5     21\n",
       "12    21\n",
       "29    21\n",
       "40    21\n",
       "2     20\n",
       "45    20\n",
       "48    20\n",
       "58    20\n",
       "57    20\n",
       "56    19\n",
       "27    19\n",
       "21    19\n",
       "9     18\n",
       "3     18\n",
       "20    18\n",
       "35    18\n",
       "54    18\n",
       "47    18\n",
       "34    18\n",
       "33    18\n",
       "51    17\n",
       "10    17\n",
       "17    16\n",
       "25    16\n",
       "55    16\n",
       "24    15\n",
       "16    15\n",
       "28    15\n",
       "15    15\n",
       "30    15\n",
       "49    15\n",
       "38    15\n",
       "37    15\n",
       "44    14\n",
       "7     14\n",
       "32    14\n",
       "19    14\n",
       "4     14\n",
       "1     13\n",
       "59    13\n",
       "41    13\n",
       "23    12\n",
       "39    12\n",
       "0     12\n",
       "13    11\n",
       "22    11\n",
       "42    11\n",
       "46    10\n",
       "52    10\n",
       "8      9\n",
       "26     9\n",
       "11     6\n",
       "Name: time, dtype: int64"
      ]
     },
     "execution_count": 173,
     "metadata": {},
     "output_type": "execute_result"
    }
   ],
   "source": [
    "log_df['time'].dt.minute.value_counts()"
   ]
  },
  {
   "cell_type": "code",
   "execution_count": 174,
   "metadata": {},
   "outputs": [
    {
     "data": {
      "text/plain": [
       "4    170\n",
       "2    259\n",
       "3    264\n",
       "1    292\n",
       "Name: time, dtype: int64"
      ]
     },
     "execution_count": 174,
     "metadata": {},
     "output_type": "execute_result"
    }
   ],
   "source": [
    "log_df['time'].dt.month.value_counts(ascending=True)"
   ]
  },
  {
   "cell_type": "code",
   "execution_count": 175,
   "metadata": {},
   "outputs": [
    {
     "data": {
      "text/plain": [
       "283"
      ]
     },
     "execution_count": 175,
     "metadata": {},
     "output_type": "execute_result"
    }
   ],
   "source": [
    "weekdays = log_df['time'].dt.day_of_week.value_counts()\n",
    "weekdays[5] + weekdays[6]"
   ]
  },
  {
   "cell_type": "code",
   "execution_count": 176,
   "metadata": {},
   "outputs": [
    {
     "data": {
      "text/plain": [
       "evening    227\n",
       "day        240\n",
       "Morning    253\n",
       "Night      265\n",
       "Name: partofday, dtype: int64"
      ]
     },
     "execution_count": 176,
     "metadata": {},
     "output_type": "execute_result"
    }
   ],
   "source": [
    "log_df['hourofday'] = log_df['time'].dt.hour\n",
    "\n",
    "def timeofday(hour):\n",
    "    if 0<=hour<=5:\n",
    "        return \"Night\"\n",
    "    elif 6<=hour<=11:\n",
    "        return \"Morning\"\n",
    "    elif 12<=hour<=17:\n",
    "        return \"day\"\n",
    "    elif 18<=hour<=23:\n",
    "        return \"evening\"\n",
    "    \n",
    "log_df['partofday'] = log_df['hourofday'].apply(timeofday)\n",
    "\n",
    "log_df['partofday'].value_counts(ascending=True)"
   ]
  },
  {
   "cell_type": "code",
   "execution_count": 177,
   "metadata": {},
   "outputs": [
    {
     "data": {
      "text/html": [
       "<div>\n",
       "<style scoped>\n",
       "    .dataframe tbody tr th:only-of-type {\n",
       "        vertical-align: middle;\n",
       "    }\n",
       "\n",
       "    .dataframe tbody tr th {\n",
       "        vertical-align: top;\n",
       "    }\n",
       "\n",
       "    .dataframe thead th {\n",
       "        text-align: right;\n",
       "    }\n",
       "</style>\n",
       "<table border=\"1\" class=\"dataframe\">\n",
       "  <thead>\n",
       "    <tr style=\"text-align: right;\">\n",
       "      <th></th>\n",
       "      <th>user_id</th>\n",
       "      <th>time</th>\n",
       "      <th>bet</th>\n",
       "      <th>win</th>\n",
       "      <th>hourofday</th>\n",
       "      <th>partofday</th>\n",
       "    </tr>\n",
       "  </thead>\n",
       "  <tbody>\n",
       "    <tr>\n",
       "      <th>0</th>\n",
       "      <td>user_919</td>\n",
       "      <td>2019-01-01 14:06:51</td>\n",
       "      <td>0.0</td>\n",
       "      <td>NaN</td>\n",
       "      <td>14</td>\n",
       "      <td>day</td>\n",
       "    </tr>\n",
       "    <tr>\n",
       "      <th>1</th>\n",
       "      <td>user_973</td>\n",
       "      <td>2019-01-01 14:51:16</td>\n",
       "      <td>0.0</td>\n",
       "      <td>NaN</td>\n",
       "      <td>14</td>\n",
       "      <td>day</td>\n",
       "    </tr>\n",
       "    <tr>\n",
       "      <th>2</th>\n",
       "      <td>user_903</td>\n",
       "      <td>2019-01-01 16:31:16</td>\n",
       "      <td>0.0</td>\n",
       "      <td>NaN</td>\n",
       "      <td>16</td>\n",
       "      <td>day</td>\n",
       "    </tr>\n",
       "    <tr>\n",
       "      <th>3</th>\n",
       "      <td>user_954</td>\n",
       "      <td>2019-01-01 17:17:51</td>\n",
       "      <td>0.0</td>\n",
       "      <td>NaN</td>\n",
       "      <td>17</td>\n",
       "      <td>day</td>\n",
       "    </tr>\n",
       "    <tr>\n",
       "      <th>4</th>\n",
       "      <td>user_954</td>\n",
       "      <td>2019-01-01 21:31:18</td>\n",
       "      <td>0.0</td>\n",
       "      <td>NaN</td>\n",
       "      <td>21</td>\n",
       "      <td>evening</td>\n",
       "    </tr>\n",
       "  </tbody>\n",
       "</table>\n",
       "</div>"
      ],
      "text/plain": [
       "    user_id                time  bet  win  hourofday partofday\n",
       "0  user_919 2019-01-01 14:06:51  0.0  NaN         14       day\n",
       "1  user_973 2019-01-01 14:51:16  0.0  NaN         14       day\n",
       "2  user_903 2019-01-01 16:31:16  0.0  NaN         16       day\n",
       "3  user_954 2019-01-01 17:17:51  0.0  NaN         17       day\n",
       "4  user_954 2019-01-01 21:31:18  0.0  NaN         21   evening"
      ]
     },
     "execution_count": 177,
     "metadata": {},
     "output_type": "execute_result"
    }
   ],
   "source": [
    "log_df['bet'] = log_df[\"bet\"].fillna(0)\n",
    "log_df.head()"
   ]
  },
  {
   "cell_type": "code",
   "execution_count": 178,
   "metadata": {},
   "outputs": [
    {
     "data": {
      "text/plain": [
       "0.0          513\n",
       "500.0         49\n",
       "100.0         48\n",
       "300.0         42\n",
       "800.0         41\n",
       "200.0         40\n",
       "400.0         40\n",
       "700.0         38\n",
       "600.0         37\n",
       "1000.0        35\n",
       "900.0         28\n",
       "9754.0        10\n",
       "10554.0        8\n",
       "10154.0        7\n",
       "10254.0        7\n",
       "9954.0         6\n",
       "10654.0        5\n",
       "10754.0        4\n",
       "10354.0        4\n",
       "10054.0        3\n",
       "10454.0        3\n",
       "9854.0         2\n",
       "8734.0         1\n",
       "12945.0        1\n",
       "27000.0        1\n",
       "12548.0        1\n",
       "9876.0         1\n",
       "156789.0       1\n",
       "950.0          1\n",
       "8700.0         1\n",
       "7650.0         1\n",
       "123981.0       1\n",
       "5000.0         1\n",
       "1678321.0      1\n",
       "98753.0        1\n",
       "145732.0       1\n",
       "104540.0       1\n",
       "Name: bet, dtype: int64"
      ]
     },
     "execution_count": 178,
     "metadata": {},
     "output_type": "execute_result"
    }
   ],
   "source": [
    "log_df['bet'].value_counts()"
   ]
  },
  {
   "cell_type": "code",
   "execution_count": null,
   "metadata": {},
   "outputs": [],
   "source": []
  }
 ],
 "metadata": {
  "interpreter": {
   "hash": "4b75131badef1596ad080b4035513623dfc25aaad4d3afc163cab39aca08d0d0"
  },
  "kernelspec": {
   "display_name": "Python 3.10.0 64-bit",
   "language": "python",
   "name": "python3"
  },
  "language_info": {
   "codemirror_mode": {
    "name": "ipython",
    "version": 3
   },
   "file_extension": ".py",
   "mimetype": "text/x-python",
   "name": "python",
   "nbconvert_exporter": "python",
   "pygments_lexer": "ipython3",
   "version": "3.10.0"
  },
  "orig_nbformat": 4
 },
 "nbformat": 4,
 "nbformat_minor": 2
}
