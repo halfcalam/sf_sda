{
 "cells": [
  {
   "cell_type": "code",
   "execution_count": 136,
   "metadata": {},
   "outputs": [],
   "source": [
    "import pandas as pd"
   ]
  },
  {
   "cell_type": "code",
   "execution_count": 137,
   "metadata": {},
   "outputs": [],
   "source": [
    "log = pd.read_csv('log.csv', header = None)\n",
    "log.columns = ['user_id', 'time', 'bet', 'win']"
   ]
  },
  {
   "cell_type": "code",
   "execution_count": 138,
   "metadata": {},
   "outputs": [],
   "source": [
    "users = pd.read_csv('users.csv', sep='\\t', encoding = 'koi8-r')\n",
    "users.columns = ['user_id', 'email', 'geo']"
   ]
  },
  {
   "cell_type": "code",
   "execution_count": 139,
   "metadata": {},
   "outputs": [
    {
     "data": {
      "text/plain": [
       "138"
      ]
     },
     "execution_count": 139,
     "metadata": {},
     "output_type": "execute_result"
    }
   ],
   "source": [
    "log_win = log[log['win']>0]\n",
    "win_count = log_win['win'].count()\n",
    "win_count"
   ]
  },
  {
   "cell_type": "code",
   "execution_count": 140,
   "metadata": {},
   "outputs": [],
   "source": [
    "log2 = log.query('bet<2000 & win>0')"
   ]
  },
  {
   "cell_type": "code",
   "execution_count": 141,
   "metadata": {},
   "outputs": [],
   "source": [
    "new_log = log[~log.user_id.str.contains(\"#error\", na=False)]"
   ]
  },
  {
   "cell_type": "code",
   "execution_count": 142,
   "metadata": {},
   "outputs": [],
   "source": [
    "#def user_id_correct(s):\n",
    "#    if s == \"#error\":\n",
    "#        return \"\"\n",
    "#    else:\n",
    "#        s = s.replace(\"Запись пользователя № - \", \"\")\n",
    "#        return s\n",
    "\n",
    "def correct_user_id(incorrect_user_id):\n",
    "    return incorrect_user_id.split('Запись пользователя № - ')[1] if not '#error' in incorrect_user_id else ''\n",
    "log['user_id'] = log['user_id'].apply(correct_user_id)"
   ]
  },
  {
   "cell_type": "code",
   "execution_count": 143,
   "metadata": {},
   "outputs": [],
   "source": [
    "#log = pd.read_csv(\"log.csv\", header=None)\n",
    "#log.columns = [\"user_id\", \"time\", \"bet\", \"win\"]\n",
    "#t = log.time[0]\n",
    "#t = t.replace(\"[\", \"\")"
   ]
  },
  {
   "cell_type": "code",
   "execution_count": 144,
   "metadata": {},
   "outputs": [],
   "source": [
    "#log[\"time\"] = log.time.apply(lambda x: str(x)[1:] if str(x)[0] == \"[\" else x)\n",
    "log['time'] = log['time'].str.strip('[')"
   ]
  },
  {
   "cell_type": "code",
   "execution_count": 145,
   "metadata": {},
   "outputs": [],
   "source": [
    "#import pandas as pd\n",
    "#\n",
    "#log = pd.read_csv(\"log.csv\", header=None)\n",
    "#log.columns = [\"user_id\", \"time\", \"bet\", \"win\"]\n",
    "#log = log.query('user_id != \"#error\"')\n",
    "#\n",
    "#\n",
    "#def user_id_correct(s):\n",
    "#    s = str(s).replace(\"Запись пользователя № - \", \"\")\n",
    "#    return s\n",
    "#\n",
    "#\n",
    "#log.user_id = log.user_id.apply(user_id_correct)\n",
    "#log.time = log.time.str.replace(\"[\", \"\")"
   ]
  }
 ],
 "metadata": {
  "interpreter": {
   "hash": "4b75131badef1596ad080b4035513623dfc25aaad4d3afc163cab39aca08d0d0"
  },
  "kernelspec": {
   "display_name": "Python 3.10.0 64-bit",
   "language": "python",
   "name": "python3"
  },
  "language_info": {
   "codemirror_mode": {
    "name": "ipython",
    "version": 3
   },
   "file_extension": ".py",
   "mimetype": "text/x-python",
   "name": "python",
   "nbconvert_exporter": "python",
   "pygments_lexer": "ipython3",
   "version": "3.10.0"
  },
  "orig_nbformat": 4
 },
 "nbformat": 4,
 "nbformat_minor": 2
}
