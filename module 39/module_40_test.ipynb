{
 "cells": [
  {
   "cell_type": "code",
   "execution_count": 106,
   "metadata": {},
   "outputs": [],
   "source": [
    "import pandas as pd\n",
    "#log = pd.read_csv(\"log.csv\")\n",
    "#log = log.dropna()\n",
    "#log.columns = [\"user_id\", \"time\", \"bet\", \"win\"]\n",
    "#log[\"time\"] = log[\"time\"].apply(lambda x: x[1:])\n",
    "#log[\"time\"] = pd.to_datetime(log[\"time\"])\n",
    "# Пропущенная строка\n",
    "#log.time = log.time.apply(lambda x: x.minute)\n",
    "# log['time'] = log.time.apply(lambda x: x.minute)\n",
    "#log[\"time\"].head()"
   ]
  },
  {
   "cell_type": "code",
   "execution_count": 107,
   "metadata": {},
   "outputs": [],
   "source": [
    "#log = pd.read_csv(\"log.csv\", header=None)\n",
    "#log.columns = ['user_id', 'time', 'bet', 'win']\n",
    "#log = log.dropna() # Избавьтесь от пропусков в log\n",
    "#log.columns = [\"user_id\", \"time\", \"bet\", \"win\"]\n",
    "#log.time = log.time.str.replace('[', '', regex = True)\n",
    "#log[\"time\"] = pd.to_datetime(log[\"time\"])\n",
    "#log['hour'] = log['time'].dt.hour\n",
    "#log.head()"
   ]
  },
  {
   "cell_type": "code",
   "execution_count": 108,
   "metadata": {},
   "outputs": [],
   "source": [
    "log = pd.read_csv(\"log.csv\", header=None)\n",
    "log.columns = ['user_id', 'time', 'bet', 'win']\n",
    "log['bet'] = log[\"bet\"].fillna(0)\n",
    "log['win'] = log['win'].fillna(0)"
   ]
  },
  {
   "cell_type": "code",
   "execution_count": 109,
   "metadata": {},
   "outputs": [
    {
     "data": {
      "text/html": [
       "<div>\n",
       "<style scoped>\n",
       "    .dataframe tbody tr th:only-of-type {\n",
       "        vertical-align: middle;\n",
       "    }\n",
       "\n",
       "    .dataframe tbody tr th {\n",
       "        vertical-align: top;\n",
       "    }\n",
       "\n",
       "    .dataframe thead th {\n",
       "        text-align: right;\n",
       "    }\n",
       "</style>\n",
       "<table border=\"1\" class=\"dataframe\">\n",
       "  <thead>\n",
       "    <tr style=\"text-align: right;\">\n",
       "      <th></th>\n",
       "      <th>user_id</th>\n",
       "      <th>time</th>\n",
       "      <th>bet</th>\n",
       "      <th>win</th>\n",
       "    </tr>\n",
       "  </thead>\n",
       "  <tbody>\n",
       "    <tr>\n",
       "      <th>0</th>\n",
       "      <td>Запись пользователя № - user_919</td>\n",
       "      <td>[2019-01-01 14:06:51</td>\n",
       "      <td>0.0</td>\n",
       "      <td>0.0</td>\n",
       "    </tr>\n",
       "    <tr>\n",
       "      <th>1</th>\n",
       "      <td>Запись пользователя № - user_973</td>\n",
       "      <td>[2019-01-01 14:51:16</td>\n",
       "      <td>0.0</td>\n",
       "      <td>0.0</td>\n",
       "    </tr>\n",
       "    <tr>\n",
       "      <th>2</th>\n",
       "      <td>Запись пользователя № - user_903</td>\n",
       "      <td>[2019-01-01 16:31:16</td>\n",
       "      <td>0.0</td>\n",
       "      <td>0.0</td>\n",
       "    </tr>\n",
       "    <tr>\n",
       "      <th>3</th>\n",
       "      <td>Запись пользователя № - user_954</td>\n",
       "      <td>[2019-01-01 17:17:51</td>\n",
       "      <td>0.0</td>\n",
       "      <td>0.0</td>\n",
       "    </tr>\n",
       "    <tr>\n",
       "      <th>4</th>\n",
       "      <td>Запись пользователя № - user_954</td>\n",
       "      <td>[2019-01-01 21:31:18</td>\n",
       "      <td>0.0</td>\n",
       "      <td>0.0</td>\n",
       "    </tr>\n",
       "    <tr>\n",
       "      <th>...</th>\n",
       "      <td>...</td>\n",
       "      <td>...</td>\n",
       "      <td>...</td>\n",
       "      <td>...</td>\n",
       "    </tr>\n",
       "    <tr>\n",
       "      <th>995</th>\n",
       "      <td>Запись пользователя № - user_984</td>\n",
       "      <td>[2019-04-20 9:59:58</td>\n",
       "      <td>9754.0</td>\n",
       "      <td>-9754.0</td>\n",
       "    </tr>\n",
       "    <tr>\n",
       "      <th>996</th>\n",
       "      <td>#error</td>\n",
       "      <td>NaN</td>\n",
       "      <td>10054.0</td>\n",
       "      <td>29265.0</td>\n",
       "    </tr>\n",
       "    <tr>\n",
       "      <th>997</th>\n",
       "      <td>#error</td>\n",
       "      <td>NaN</td>\n",
       "      <td>10454.0</td>\n",
       "      <td>-10454.0</td>\n",
       "    </tr>\n",
       "    <tr>\n",
       "      <th>998</th>\n",
       "      <td>#error</td>\n",
       "      <td>NaN</td>\n",
       "      <td>1000.0</td>\n",
       "      <td>-1000.0</td>\n",
       "    </tr>\n",
       "    <tr>\n",
       "      <th>999</th>\n",
       "      <td>#error</td>\n",
       "      <td>NaN</td>\n",
       "      <td>10754.0</td>\n",
       "      <td>-10754.0</td>\n",
       "    </tr>\n",
       "  </tbody>\n",
       "</table>\n",
       "<p>1000 rows × 4 columns</p>\n",
       "</div>"
      ],
      "text/plain": [
       "                              user_id                  time      bet      win\n",
       "0    Запись пользователя № - user_919  [2019-01-01 14:06:51      0.0      0.0\n",
       "1    Запись пользователя № - user_973  [2019-01-01 14:51:16      0.0      0.0\n",
       "2    Запись пользователя № - user_903  [2019-01-01 16:31:16      0.0      0.0\n",
       "3    Запись пользователя № - user_954  [2019-01-01 17:17:51      0.0      0.0\n",
       "4    Запись пользователя № - user_954  [2019-01-01 21:31:18      0.0      0.0\n",
       "..                                ...                   ...      ...      ...\n",
       "995  Запись пользователя № - user_984   [2019-04-20 9:59:58   9754.0  -9754.0\n",
       "996                            #error                   NaN  10054.0  29265.0\n",
       "997                            #error                   NaN  10454.0 -10454.0\n",
       "998                            #error                   NaN   1000.0  -1000.0\n",
       "999                            #error                   NaN  10754.0 -10754.0\n",
       "\n",
       "[1000 rows x 4 columns]"
      ]
     },
     "execution_count": 109,
     "metadata": {},
     "output_type": "execute_result"
    }
   ],
   "source": [
    "def fillna_win(row):\n",
    "    if row.win>0:\n",
    "        return row.win\n",
    "    elif row.bet==0:\n",
    "        row.win=0\n",
    "        return row.win\n",
    "    elif row.bet>0 and row.win==0:\n",
    "        return row.win-row.bet  \n",
    "\n",
    "log['win'] = log.apply(lambda row: fillna_win(row), axis=1)\n",
    "\n",
    "log"
   ]
  },
  {
   "cell_type": "code",
   "execution_count": 110,
   "metadata": {},
   "outputs": [
    {
     "name": "stdout",
     "output_type": "stream",
     "text": [
      "347\n"
     ]
    }
   ],
   "source": [
    "cl = 0\n",
    "def count_loose(not_win):\n",
    "    global cl\n",
    "    if not_win<0:\n",
    "        cl+=1\n",
    "    return cl\n",
    "\n",
    "log['win'].apply(count_loose)\n",
    "print(cl)"
   ]
  },
  {
   "cell_type": "code",
   "execution_count": 111,
   "metadata": {},
   "outputs": [
    {
     "data": {
      "text/html": [
       "<div>\n",
       "<style scoped>\n",
       "    .dataframe tbody tr th:only-of-type {\n",
       "        vertical-align: middle;\n",
       "    }\n",
       "\n",
       "    .dataframe tbody tr th {\n",
       "        vertical-align: top;\n",
       "    }\n",
       "\n",
       "    .dataframe thead th {\n",
       "        text-align: right;\n",
       "    }\n",
       "</style>\n",
       "<table border=\"1\" class=\"dataframe\">\n",
       "  <thead>\n",
       "    <tr style=\"text-align: right;\">\n",
       "      <th></th>\n",
       "      <th>user_id</th>\n",
       "      <th>time</th>\n",
       "      <th>bet</th>\n",
       "      <th>win</th>\n",
       "      <th>net</th>\n",
       "    </tr>\n",
       "  </thead>\n",
       "  <tbody>\n",
       "    <tr>\n",
       "      <th>0</th>\n",
       "      <td>Запись пользователя № - user_919</td>\n",
       "      <td>[2019-01-01 14:06:51</td>\n",
       "      <td>0.0</td>\n",
       "      <td>0.0</td>\n",
       "      <td>0.0</td>\n",
       "    </tr>\n",
       "    <tr>\n",
       "      <th>1</th>\n",
       "      <td>Запись пользователя № - user_973</td>\n",
       "      <td>[2019-01-01 14:51:16</td>\n",
       "      <td>0.0</td>\n",
       "      <td>0.0</td>\n",
       "      <td>0.0</td>\n",
       "    </tr>\n",
       "    <tr>\n",
       "      <th>2</th>\n",
       "      <td>Запись пользователя № - user_903</td>\n",
       "      <td>[2019-01-01 16:31:16</td>\n",
       "      <td>0.0</td>\n",
       "      <td>0.0</td>\n",
       "      <td>0.0</td>\n",
       "    </tr>\n",
       "    <tr>\n",
       "      <th>3</th>\n",
       "      <td>Запись пользователя № - user_954</td>\n",
       "      <td>[2019-01-01 17:17:51</td>\n",
       "      <td>0.0</td>\n",
       "      <td>0.0</td>\n",
       "      <td>0.0</td>\n",
       "    </tr>\n",
       "    <tr>\n",
       "      <th>4</th>\n",
       "      <td>Запись пользователя № - user_954</td>\n",
       "      <td>[2019-01-01 21:31:18</td>\n",
       "      <td>0.0</td>\n",
       "      <td>0.0</td>\n",
       "      <td>0.0</td>\n",
       "    </tr>\n",
       "    <tr>\n",
       "      <th>...</th>\n",
       "      <td>...</td>\n",
       "      <td>...</td>\n",
       "      <td>...</td>\n",
       "      <td>...</td>\n",
       "      <td>...</td>\n",
       "    </tr>\n",
       "    <tr>\n",
       "      <th>995</th>\n",
       "      <td>Запись пользователя № - user_984</td>\n",
       "      <td>[2019-04-20 9:59:58</td>\n",
       "      <td>9754.0</td>\n",
       "      <td>-9754.0</td>\n",
       "      <td>-19508.0</td>\n",
       "    </tr>\n",
       "    <tr>\n",
       "      <th>996</th>\n",
       "      <td>#error</td>\n",
       "      <td>NaN</td>\n",
       "      <td>10054.0</td>\n",
       "      <td>29265.0</td>\n",
       "      <td>19211.0</td>\n",
       "    </tr>\n",
       "    <tr>\n",
       "      <th>997</th>\n",
       "      <td>#error</td>\n",
       "      <td>NaN</td>\n",
       "      <td>10454.0</td>\n",
       "      <td>-10454.0</td>\n",
       "      <td>-20908.0</td>\n",
       "    </tr>\n",
       "    <tr>\n",
       "      <th>998</th>\n",
       "      <td>#error</td>\n",
       "      <td>NaN</td>\n",
       "      <td>1000.0</td>\n",
       "      <td>-1000.0</td>\n",
       "      <td>-2000.0</td>\n",
       "    </tr>\n",
       "    <tr>\n",
       "      <th>999</th>\n",
       "      <td>#error</td>\n",
       "      <td>NaN</td>\n",
       "      <td>10754.0</td>\n",
       "      <td>-10754.0</td>\n",
       "      <td>-21508.0</td>\n",
       "    </tr>\n",
       "  </tbody>\n",
       "</table>\n",
       "<p>1000 rows × 5 columns</p>\n",
       "</div>"
      ],
      "text/plain": [
       "                              user_id                  time      bet      win  \\\n",
       "0    Запись пользователя № - user_919  [2019-01-01 14:06:51      0.0      0.0   \n",
       "1    Запись пользователя № - user_973  [2019-01-01 14:51:16      0.0      0.0   \n",
       "2    Запись пользователя № - user_903  [2019-01-01 16:31:16      0.0      0.0   \n",
       "3    Запись пользователя № - user_954  [2019-01-01 17:17:51      0.0      0.0   \n",
       "4    Запись пользователя № - user_954  [2019-01-01 21:31:18      0.0      0.0   \n",
       "..                                ...                   ...      ...      ...   \n",
       "995  Запись пользователя № - user_984   [2019-04-20 9:59:58   9754.0  -9754.0   \n",
       "996                            #error                   NaN  10054.0  29265.0   \n",
       "997                            #error                   NaN  10454.0 -10454.0   \n",
       "998                            #error                   NaN   1000.0  -1000.0   \n",
       "999                            #error                   NaN  10754.0 -10754.0   \n",
       "\n",
       "         net  \n",
       "0        0.0  \n",
       "1        0.0  \n",
       "2        0.0  \n",
       "3        0.0  \n",
       "4        0.0  \n",
       "..       ...  \n",
       "995 -19508.0  \n",
       "996  19211.0  \n",
       "997 -20908.0  \n",
       "998  -2000.0  \n",
       "999 -21508.0  \n",
       "\n",
       "[1000 rows x 5 columns]"
      ]
     },
     "execution_count": 111,
     "metadata": {},
     "output_type": "execute_result"
    }
   ],
   "source": [
    "log['net'] = log['win'] - log['bet']\n",
    "log"
   ]
  },
  {
   "cell_type": "code",
   "execution_count": 112,
   "metadata": {},
   "outputs": [
    {
     "name": "stdout",
     "output_type": "stream",
     "text": [
      "138\n"
     ]
    }
   ],
   "source": [
    "cw = 0\n",
    "def count_win(cnt_win):\n",
    "    global cw\n",
    "    if cnt_win>0:\n",
    "        cw+=1\n",
    "    return cw\n",
    "\n",
    "log['net'].apply(count_win)\n",
    "print(cw)"
   ]
  },
  {
   "cell_type": "code",
   "execution_count": 113,
   "metadata": {},
   "outputs": [
    {
     "data": {
      "text/plain": [
       "80253.33333333333"
      ]
     },
     "execution_count": 113,
     "metadata": {},
     "output_type": "execute_result"
    }
   ],
   "source": [
    "log[log['net']>0]['net'].mean()"
   ]
  },
  {
   "cell_type": "code",
   "execution_count": 114,
   "metadata": {},
   "outputs": [
    {
     "data": {
      "text/plain": [
       "5347.0"
      ]
     },
     "execution_count": 114,
     "metadata": {},
     "output_type": "execute_result"
    }
   ],
   "source": [
    "log[log['net']>0]['net'].median()"
   ]
  },
  {
   "cell_type": "code",
   "execution_count": 115,
   "metadata": {},
   "outputs": [
    {
     "data": {
      "text/plain": [
       "6785.738144329897"
      ]
     },
     "execution_count": 115,
     "metadata": {},
     "output_type": "execute_result"
    }
   ],
   "source": [
    "log[log['bet']>0]['bet'].mean()"
   ]
  },
  {
   "cell_type": "code",
   "execution_count": 116,
   "metadata": {},
   "outputs": [
    {
     "data": {
      "text/plain": [
       "0.485"
      ]
     },
     "execution_count": 116,
     "metadata": {},
     "output_type": "execute_result"
    }
   ],
   "source": [
    "log[log['bet']>0]['bet'].count()/log['user_id'].count()"
   ]
  },
  {
   "cell_type": "code",
   "execution_count": 117,
   "metadata": {},
   "outputs": [
    {
     "data": {
      "text/plain": [
       "18008.81649484536"
      ]
     },
     "execution_count": 117,
     "metadata": {},
     "output_type": "execute_result"
    }
   ],
   "source": [
    "log[log['bet']>0]['net'].mean()"
   ]
  },
  {
   "cell_type": "code",
   "execution_count": null,
   "metadata": {},
   "outputs": [],
   "source": []
  }
 ],
 "metadata": {
  "interpreter": {
   "hash": "4b75131badef1596ad080b4035513623dfc25aaad4d3afc163cab39aca08d0d0"
  },
  "kernelspec": {
   "display_name": "Python 3.10.0 64-bit",
   "language": "python",
   "name": "python3"
  },
  "language_info": {
   "codemirror_mode": {
    "name": "ipython",
    "version": 3
   },
   "file_extension": ".py",
   "mimetype": "text/x-python",
   "name": "python",
   "nbconvert_exporter": "python",
   "pygments_lexer": "ipython3",
   "version": "3.10.0"
  },
  "orig_nbformat": 4
 },
 "nbformat": 4,
 "nbformat_minor": 2
}
