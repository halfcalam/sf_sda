{
  "cells": [
    {
      "cell_type": "code",
      "execution_count": 3,
      "metadata": {
        "colab": {
          "base_uri": "https://localhost:8080/",
          "height": 380
        },
        "id": "Ad2SR-fZcDwv",
        "outputId": "091e22c4-74b4-4543-94f0-970b01949716"
      },
      "outputs": [
        {
          "name": "stdout",
          "output_type": "stream",
          "text": [
            "Процент пользователей, оплативших тренировки (от числа избравших лёгкий уровень): 0.07720588235294118\n",
            "Процент пользователей, оплативших тренировки (от числа избравших средний уровень): 0.2086114101184069\n",
            "Процент пользователей, оплативших тренировки (от числа избравших сложный уровень): 0.35388310648518817\n",
            "3 days 14:58:52.941798941 прошло с момента покупки до начала игры избравшими лёгкий уровень.\n",
            "3 days 23:14:13.165118679 прошло с момента покупки до начала игры избравшими средний уровень.\n",
            "3 days 07:20:41.420814479 прошло с момента покупки до начала игры избравшими сложный уровень.\n",
            "3 days 22:10:23.211640211 прошло с момента регистрации до покупки избравшими лёгкий уровень.\n",
            "4 days 06:12:06.576883384 прошло с момента регистрации до покупки избравшими средний уровень.\n",
            "3 days 14:55:19.257918552 прошло с момента регистрации до покупки избравшими сложный уровень.\n"
          ]
        },
        {
          "name": "stderr",
          "output_type": "stream",
          "text": [
            "C:\\Users\\7C77~1\\AppData\\Local\\Temp/ipykernel_5704/1179067597.py:49: SettingWithCopyWarning: \n",
            "A value is trying to be set on a copy of a slice from a DataFrame.\n",
            "Try using .loc[row_indexer,col_indexer] = value instead\n",
            "\n",
            "See the caveats in the documentation: https://pandas.pydata.org/pandas-docs/stable/user_guide/indexing.html#returning-a-view-versus-a-copy\n",
            "  registration_easy_df[\"timedelta\"] = (registration_easy_df[\"event_datetime_x\"] - registration_easy_df[\"start_time\"])\n",
            "C:\\Users\\7C77~1\\AppData\\Local\\Temp/ipykernel_5704/1179067597.py:53: SettingWithCopyWarning: \n",
            "A value is trying to be set on a copy of a slice from a DataFrame.\n",
            "Try using .loc[row_indexer,col_indexer] = value instead\n",
            "\n",
            "See the caveats in the documentation: https://pandas.pydata.org/pandas-docs/stable/user_guide/indexing.html#returning-a-view-versus-a-copy\n",
            "  registration_medium_df[\"timedelta\"] = (registration_medium_df[\"event_datetime_x\"] - registration_medium_df[\"start_time\"])\n",
            "C:\\Users\\7C77~1\\AppData\\Local\\Temp/ipykernel_5704/1179067597.py:57: SettingWithCopyWarning: \n",
            "A value is trying to be set on a copy of a slice from a DataFrame.\n",
            "Try using .loc[row_indexer,col_indexer] = value instead\n",
            "\n",
            "See the caveats in the documentation: https://pandas.pydata.org/pandas-docs/stable/user_guide/indexing.html#returning-a-view-versus-a-copy\n",
            "  registration_hard_df[\"timedelta\"] = (registration_hard_df[\"event_datetime_x\"] - registration_hard_df[\"start_time\"])\n"
          ]
        }
      ],
      "source": [
        "import pandas as pd\n",
        "df = pd.read_csv('events.csv')\n",
        "cond = (df.start_time>='2018-01-01') & (df.start_time<'2019-01-01') & (df.event_type=='registration')\n",
        "registered = df[cond]['user_id'].to_list() # список пользователей, зарег. в 2018\n",
        "events = df[df.user_id.isin(registered)]\n",
        "events.start_time = pd.to_datetime(events.start_time, format='%Y-%m-%dT%H:%M:%S')\n",
        "df1 = pd.read_csv('purchase.csv')\n",
        "df1['event_type'] = 'purchase'\n",
        "purchase = df1[df1.user_id.isin(registered)]\n",
        "purchase.event_datetime = pd.to_datetime(purchase.event_datetime, format='%Y-%m-%dT%H:%M:%S')\n",
        "total_events_df = pd.concat([events,purchase],sort=False)\n",
        "total_events_df = total_events_df.reset_index(drop=True).sort_values('start_time')\n",
        "easy_df = total_events_df[total_events_df[\"selected_level\"] == \"easy\"]\n",
        "medium_df = total_events_df[total_events_df[\"selected_level\"] == \"medium\"]\n",
        "hard_df = total_events_df[total_events_df[\"selected_level\"] == \"hard\"]\n",
        "buy_df = total_events_df[total_events_df[\"event_type\"] == \"purchase\"]\n",
        "easy_users = total_events_df[\n",
        "    total_events_df[\"selected_level\"] == \"easy\"\n",
        "][\"user_id\"].unique()\n",
        "medium_users = total_events_df[\n",
        "    total_events_df[\"selected_level\"] == \"medium\"\n",
        "][\"user_id\"].unique()\n",
        "hard_users = total_events_df[\n",
        "    total_events_df[\"selected_level\"] == \"hard\"\n",
        "][\"user_id\"].unique()\n",
        "purchase_easy_df = purchase[purchase[\"user_id\"].isin(easy_users)]\n",
        "purchase_easy_df['user_id'].nunique\n",
        "percent_of_easy_purchase = purchase_easy_df[\"user_id\"].nunique() / len(easy_users)\n",
        "print(\"Процент пользователей, оплативших тренировки (от числа избравших лёгкий уровень): {}\".format(percent_of_easy_purchase))\n",
        "purchase_medium_df = purchase[purchase[\"user_id\"].isin(medium_users)]\n",
        "purchase_medium_df['user_id'].nunique\n",
        "percent_of_medium_purchase = purchase_medium_df[\"user_id\"].nunique() / len(medium_users)\n",
        "print(\"Процент пользователей, оплативших тренировки (от числа избравших средний уровень): {}\".format(percent_of_medium_purchase))\n",
        "purchase_hard_df = purchase[purchase[\"user_id\"].isin(hard_users)]\n",
        "purchase_hard_df['user_id'].nunique()\n",
        "percent_of_hard_purchase = purchase_hard_df[\"user_id\"].nunique() / len(hard_users)\n",
        "print(\"Процент пользователей, оплативших тренировки (от числа избравших сложный уровень): {}\".format(percent_of_hard_purchase))\n",
        "merged_df_easy = purchase_easy_df.merge(easy_df, on=\"user_id\", how=\"inner\")\n",
        "merged_df_easy[\"timedelta\"] = (merged_df_easy[\"event_datetime_x\"] - merged_df_easy[\"start_time\"])\n",
        "print(\"{} прошло с момента покупки до начала игры избравшими лёгкий уровень.\".format(merged_df_easy[\"timedelta\"].mean()))\n",
        "merged_df_medium = purchase_medium_df.merge(medium_df, on=\"user_id\", how=\"inner\")\n",
        "merged_df_medium[\"timedelta\"] = (merged_df_medium[\"event_datetime_x\"] - merged_df_medium[\"start_time\"])\n",
        "print(\"{} прошло с момента покупки до начала игры избравшими средний уровень.\".format(merged_df_medium[\"timedelta\"].mean()))\n",
        "merged_df_hard = purchase_hard_df.merge(hard_df, on=\"user_id\", how=\"inner\")\n",
        "merged_df_hard[\"timedelta\"] = (merged_df_hard[\"event_datetime_x\"] - merged_df_hard[\"start_time\"])\n",
        "print(\"{} прошло с момента покупки до начала игры избравшими сложный уровень.\".format(merged_df_hard[\"timedelta\"].mean()))\n",
        "merged_df_easy_reg = purchase_easy_df.merge(total_events_df, on=\"user_id\", how=\"inner\")\n",
        "registration_easy_df = merged_df_easy_reg[merged_df_easy_reg['event_type_y'] == 'registration']\n",
        "registration_easy_df[\"timedelta\"] = (registration_easy_df[\"event_datetime_x\"] - registration_easy_df[\"start_time\"])\n",
        "print(\"{} прошло с момента регистрации до покупки избравшими лёгкий уровень.\".format(registration_easy_df[\"timedelta\"].mean()))\n",
        "merged_df_medium_reg = purchase_medium_df.merge(total_events_df, on=\"user_id\", how=\"inner\")\n",
        "registration_medium_df = merged_df_medium_reg[merged_df_medium_reg['event_type_y'] == 'registration']\n",
        "registration_medium_df[\"timedelta\"] = (registration_medium_df[\"event_datetime_x\"] - registration_medium_df[\"start_time\"])\n",
        "print(\"{} прошло с момента регистрации до покупки избравшими средний уровень.\".format(registration_medium_df[\"timedelta\"].mean()))\n",
        "merged_df_hard_reg = purchase_hard_df.merge(total_events_df, on=\"user_id\", how=\"inner\")\n",
        "registration_hard_df = merged_df_hard_reg[merged_df_hard_reg['event_type_y'] == 'registration']\n",
        "registration_hard_df[\"timedelta\"] = (registration_hard_df[\"event_datetime_x\"] - registration_hard_df[\"start_time\"])\n",
        "print(\"{} прошло с момента регистрации до покупки избравшими сложный уровень.\".format(registration_hard_df[\"timedelta\"].mean()))"
      ]
    },
    {
      "cell_type": "markdown",
      "metadata": {
        "id": "GgQ2SgTRcDw3"
      },
      "source": [
        "Из этого видно, что по мере роста уровня сложности растёт и уровень оплаты тренировки. Однако со средним времени между оплатой и началом игры такой закономерности нет: игроки, избравшие сложный уровень, приступают к игре после оплаты быстрее остальных, а избравшие средний уровень — дольше остальных. Аналогично происходит со временем регистрации: игроки, избравшие сложный уровень, после неё оплачивали быстрее, чем все остальные, а избравшие средний уровень — позже остальных."
      ]
    },
    {
      "cell_type": "markdown",
      "metadata": {
        "id": "l-8MonTDcI9d"
      },
      "source": []
    }
  ],
  "metadata": {
    "colab": {
      "name": "Ершов Д.Ю. Project-4.ipynb",
      "provenance": []
    },
    "interpreter": {
      "hash": "23ea243006b8d9e979ad79265954a487680058ea8d48d2a67711d8722c9cc968"
    },
    "kernelspec": {
      "display_name": "Python 3.9.7 64-bit (system)",
      "language": "python",
      "name": "python3"
    },
    "language_info": {
      "codemirror_mode": {
        "name": "ipython",
        "version": 3
      },
      "file_extension": ".py",
      "mimetype": "text/x-python",
      "name": "python",
      "nbconvert_exporter": "python",
      "pygments_lexer": "ipython3",
      "version": "3.10.0"
    },
    "orig_nbformat": 4
  },
  "nbformat": 4,
  "nbformat_minor": 0
}
