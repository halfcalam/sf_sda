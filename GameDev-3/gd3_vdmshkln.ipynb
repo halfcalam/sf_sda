{
 "cells": [
  {
   "cell_type": "code",
   "execution_count": 1,
   "metadata": {},
   "outputs": [],
   "source": [
    "import pandas as pd"
   ]
  },
  {
   "cell_type": "markdown",
   "metadata": {},
   "source": [
    "1. Получаем данные"
   ]
  },
  {
   "cell_type": "code",
   "execution_count": 2,
   "metadata": {},
   "outputs": [],
   "source": [
    "events = pd.read_csv('events.csv')\n",
    "events_df = events.copy()"
   ]
  },
  {
   "cell_type": "code",
   "execution_count": 3,
   "metadata": {},
   "outputs": [],
   "source": [
    "purchase = pd.read_csv('purchase.csv')\n",
    "purchase_df = purchase.copy()"
   ]
  },
  {
   "cell_type": "markdown",
   "metadata": {},
   "source": [
    "2. Оставляем пользователей, зарегистрированных в 2018 году; приводим дату к формату datetime; объединяем dataframes"
   ]
  },
  {
   "cell_type": "code",
   "execution_count": 4,
   "metadata": {},
   "outputs": [],
   "source": [
    "mask1 = (events_df['start_time']>='2018-01-01') & (events_df['start_time']<'2019-01-01') & (events_df['event_type']=='registration')\n",
    "registered2018 = events_df[mask1]['user_id'].to_list()\n",
    "events_df = events_df[events_df['user_id'].isin(registered2018)]"
   ]
  },
  {
   "cell_type": "code",
   "execution_count": 5,
   "metadata": {},
   "outputs": [],
   "source": [
    "events_df['start_time'] = pd.to_datetime(events_df['start_time'], format='%Y-%m-%dT%H:%M:%S')"
   ]
  },
  {
   "cell_type": "code",
   "execution_count": 6,
   "metadata": {},
   "outputs": [],
   "source": [
    "purchase_df = purchase_df[purchase_df['user_id'].isin(registered2018)]\n",
    "purchase_df = purchase_df.rename(columns={\"event_datetime\": \"start_time\"})\n",
    "purchase_df['start_time'] = pd.to_datetime(purchase_df['start_time'], format='%Y-%m-%dT%H:%M:%S')"
   ]
  },
  {
   "cell_type": "code",
   "execution_count": 7,
   "metadata": {},
   "outputs": [],
   "source": [
    "purchase_df['event_type'] = 'purchase'\n",
    "events_df = events_df.rename(columns={\"id\": \"event_id\"})\n",
    "purchase_df = purchase_df.rename(columns={\"id\": \"purchase_id\"})\n",
    "total_events_df = pd.concat([events_df,purchase_df],sort=False)\n",
    "total_events_df = total_events_df.reset_index(drop=True).sort_values('start_time')"
   ]
  },
  {
   "cell_type": "markdown",
   "metadata": {},
   "source": [
    "3. Выделяем группы пользователей по выбранному уровню сложности"
   ]
  },
  {
   "cell_type": "code",
   "execution_count": 8,
   "metadata": {},
   "outputs": [],
   "source": [
    "easy_level_users = total_events_df[total_events_df['selected_level']==\"easy\"]['user_id'].unique()\n",
    "medium_level_users = total_events_df[total_events_df['selected_level']==\"medium\"]['user_id'].unique()\n",
    "hard_level_users = total_events_df[total_events_df['selected_level']==\"hard\"]['user_id'].unique()"
   ]
  },
  {
   "cell_type": "markdown",
   "metadata": {},
   "source": [
    "4. Рассчитываем для каждой группы процент оплат"
   ]
  },
  {
   "cell_type": "code",
   "execution_count": 9,
   "metadata": {},
   "outputs": [],
   "source": [
    "purchase_easy = purchase_df[purchase_df['user_id'].isin(easy_level_users)]\n",
    "purchase_medium = purchase_df[purchase_df['user_id'].isin(medium_level_users)]\n",
    "purchase_hard = purchase_df[purchase_df['user_id'].isin(hard_level_users)]"
   ]
  },
  {
   "cell_type": "code",
   "execution_count": 10,
   "metadata": {},
   "outputs": [
    {
     "name": "stdout",
     "output_type": "stream",
     "text": [
      "Процент пользователей, совершивших оплату, среди выбравших лёгкий уровень сложности: 7.72%\n"
     ]
    }
   ],
   "source": [
    "percent_of_easy_purchase = purchase_easy['user_id'].nunique()/len(easy_level_users)\n",
    "print(\"Процент пользователей, совершивших оплату, среди выбравших лёгкий уровень сложности: {:.2%}\".format(percent_of_easy_purchase))"
   ]
  },
  {
   "cell_type": "code",
   "execution_count": 11,
   "metadata": {},
   "outputs": [
    {
     "name": "stdout",
     "output_type": "stream",
     "text": [
      "Процент пользователей, совершивших оплату, среди выбравших средний уровень сложности: 20.86%\n"
     ]
    }
   ],
   "source": [
    "percent_of_medium_purchase = purchase_medium['user_id'].nunique()/len(medium_level_users)\n",
    "print(\"Процент пользователей, совершивших оплату, среди выбравших средний уровень сложности: {:.2%}\".format(percent_of_medium_purchase))"
   ]
  },
  {
   "cell_type": "code",
   "execution_count": 12,
   "metadata": {},
   "outputs": [
    {
     "name": "stdout",
     "output_type": "stream",
     "text": [
      "Процент пользователей, совершивших оплату, среди выбравших тяжёлый уровень сложности: 35.39%\n"
     ]
    }
   ],
   "source": [
    "percent_of_hard_purchase = purchase_hard['user_id'].nunique()/len(hard_level_users)\n",
    "print(\"Процент пользователей, совершивших оплату, среди выбравших тяжёлый уровень сложности: {:.2%}\".format(percent_of_hard_purchase))"
   ]
  },
  {
   "cell_type": "markdown",
   "metadata": {},
   "source": [
    "5. Создаём dataframes с событиями регистрации, выбора уровня сложности и оплаты"
   ]
  },
  {
   "cell_type": "code",
   "execution_count": 13,
   "metadata": {},
   "outputs": [],
   "source": [
    "registration_df = total_events_df[total_events_df['event_type']=='registration']\n",
    "registration_df = registration_df[[\"user_id\", \"start_time\"]].rename(columns={\"start_time\":\"registration_time\"})"
   ]
  },
  {
   "cell_type": "code",
   "execution_count": 14,
   "metadata": {},
   "outputs": [],
   "source": [
    "purchase_easy_df = purchase_easy.copy()\n",
    "purchase_easy_df = purchase_easy_df[[\"user_id\", \"start_time\"]].rename(columns={\"start_time\":\"purchase_time\"})\n",
    "purchase_medium_df = purchase_medium.copy()\n",
    "purchase_medium_df = purchase_medium_df[[\"user_id\", \"start_time\"]].rename(columns={\"start_time\":\"purchase_time\"})\n",
    "purchase_hard_df = purchase_hard.copy()\n",
    "purchase_hard_df = purchase_hard_df[[\"user_id\", \"start_time\"]].rename(columns={\"start_time\":\"purchase_time\"})"
   ]
  },
  {
   "cell_type": "code",
   "execution_count": 15,
   "metadata": {},
   "outputs": [],
   "source": [
    "level_choice_df = total_events_df[total_events_df['event_type']=='level_choice']\n",
    "level_choice_df = level_choice_df[[\"user_id\", \"start_time\"]].rename(columns={\"start_time\":\"level_choice_time\"})"
   ]
  },
  {
   "cell_type": "markdown",
   "metadata": {},
   "source": [
    "5.1. Среднее время между регистрацией/выбором_уровня_сложности и оплатой у пользователей, выбравших лёгкий уровень"
   ]
  },
  {
   "cell_type": "code",
   "execution_count": 16,
   "metadata": {},
   "outputs": [
    {
     "data": {
      "text/plain": [
       "Timedelta('3 days 22:10:23.211640211')"
      ]
     },
     "execution_count": 16,
     "metadata": {},
     "output_type": "execute_result"
    }
   ],
   "source": [
    "merged_df_e1 = registration_df.merge(purchase_easy_df, on=\"user_id\", how=\"inner\")\n",
    "merged_df_e1['timedelta'] = (merged_df_e1['purchase_time']-merged_df_e1['registration_time'])\n",
    "merged_df_e1['timedelta'].mean()"
   ]
  },
  {
   "cell_type": "code",
   "execution_count": 17,
   "metadata": {},
   "outputs": [
    {
     "data": {
      "text/plain": [
       "Timedelta('3 days 14:58:52.941798941')"
      ]
     },
     "execution_count": 17,
     "metadata": {},
     "output_type": "execute_result"
    }
   ],
   "source": [
    "merged_df_e2 = level_choice_df.merge(purchase_easy_df, on=\"user_id\", how=\"inner\")\n",
    "merged_df_e2['timedelta'] = (merged_df_e2['purchase_time']-merged_df_e2['level_choice_time'])\n",
    "merged_df_e2['timedelta'].mean()"
   ]
  },
  {
   "cell_type": "markdown",
   "metadata": {},
   "source": [
    "5.2. Среднее время между регистрацией/выбором_уровня_сложности и оплатой у пользователей, выбравших средний уровень"
   ]
  },
  {
   "cell_type": "code",
   "execution_count": 18,
   "metadata": {},
   "outputs": [
    {
     "data": {
      "text/plain": [
       "Timedelta('4 days 06:12:06.576883384')"
      ]
     },
     "execution_count": 18,
     "metadata": {},
     "output_type": "execute_result"
    }
   ],
   "source": [
    "merged_df_m1 = registration_df.merge(purchase_medium_df, on=\"user_id\", how=\"inner\")\n",
    "merged_df_m1['timedelta'] = (merged_df_m1['purchase_time']-merged_df_m1['registration_time'])\n",
    "merged_df_m1['timedelta'].mean()"
   ]
  },
  {
   "cell_type": "code",
   "execution_count": 19,
   "metadata": {},
   "outputs": [
    {
     "data": {
      "text/plain": [
       "Timedelta('3 days 23:14:13.165118679')"
      ]
     },
     "execution_count": 19,
     "metadata": {},
     "output_type": "execute_result"
    }
   ],
   "source": [
    "merged_df_m2 = level_choice_df.merge(purchase_medium_df, on=\"user_id\", how=\"inner\")\n",
    "merged_df_m2['timedelta'] = (merged_df_m2['purchase_time']-merged_df_m2['level_choice_time'])\n",
    "merged_df_m2['timedelta'].mean()"
   ]
  },
  {
   "cell_type": "markdown",
   "metadata": {},
   "source": [
    "5.3. Среднее время между регистрацией/выбором_уровня_сложности и оплатой у пользователей, выбравших тяжелый уровень"
   ]
  },
  {
   "cell_type": "code",
   "execution_count": 20,
   "metadata": {},
   "outputs": [
    {
     "data": {
      "text/plain": [
       "Timedelta('3 days 14:55:19.257918552')"
      ]
     },
     "execution_count": 20,
     "metadata": {},
     "output_type": "execute_result"
    }
   ],
   "source": [
    "merged_df_h1 = registration_df.merge(purchase_hard_df, on=\"user_id\", how=\"inner\")\n",
    "merged_df_h1['timedelta'] = (merged_df_h1['purchase_time']-merged_df_h1['registration_time'])\n",
    "merged_df_h1['timedelta'].mean()"
   ]
  },
  {
   "cell_type": "code",
   "execution_count": 21,
   "metadata": {},
   "outputs": [
    {
     "data": {
      "text/plain": [
       "Timedelta('3 days 07:20:41.420814479')"
      ]
     },
     "execution_count": 21,
     "metadata": {},
     "output_type": "execute_result"
    }
   ],
   "source": [
    "merged_df_h2 = level_choice_df.merge(purchase_hard_df, on=\"user_id\", how=\"inner\")\n",
    "merged_df_h2['timedelta'] = (merged_df_h2['purchase_time']-merged_df_h2['level_choice_time'])\n",
    "merged_df_h2['timedelta'].mean()"
   ]
  },
  {
   "cell_type": "markdown",
   "metadata": {},
   "source": [
    "Таким образом:"
   ]
  },
  {
   "cell_type": "code",
   "execution_count": 22,
   "metadata": {},
   "outputs": [
    {
     "name": "stdout",
     "output_type": "stream",
     "text": [
      "Среднее время между регистрацией и оплатой у пользователей, выбравших лёгкий уровень: 3 days 22:10:23.211640211\n",
      "Среднее время между выбором уровня сложности и оплатой у пользователей, выбравших лёгкий уровень: 3 days 14:58:52.941798941\n",
      "\n",
      "Среднее время между регистрацией и оплатой у пользователей, выбравших средний уровень: 4 days 06:12:06.576883384\n",
      "Среднее время между выбором уровня сложности и оплатой у пользователей, выбравших средний уровень: 3 days 23:14:13.165118679\n",
      "\n",
      "Среднее время между регистрацией и оплатой у пользователей, выбравших тяжелый уровень: 3 days 14:55:19.257918552\n",
      "Среднее время между выбором уровня сложности и оплатой у пользователей, выбравших тяжелый уровень: 3 days 07:20:41.420814479\n"
     ]
    }
   ],
   "source": [
    "print(\"Среднее время между регистрацией и оплатой у пользователей, выбравших лёгкий уровень: {}\".format(merged_df_e1['timedelta'].mean()))\n",
    "print(\"Среднее время между выбором уровня сложности и оплатой у пользователей, выбравших лёгкий уровень: {}\\n\".format(merged_df_e2['timedelta'].mean()))\n",
    "print(\"Среднее время между регистрацией и оплатой у пользователей, выбравших средний уровень: {}\".format(merged_df_m1['timedelta'].mean()))\n",
    "print(\"Среднее время между выбором уровня сложности и оплатой у пользователей, выбравших средний уровень: {}\\n\".format(merged_df_m2['timedelta'].mean()))\n",
    "print(\"Среднее время между регистрацией и оплатой у пользователей, выбравших тяжелый уровень: {}\".format(merged_df_h1['timedelta'].mean()))\n",
    "print(\"Среднее время между выбором уровня сложности и оплатой у пользователей, выбравших тяжелый уровень: {}\".format(merged_df_h2['timedelta'].mean()))"
   ]
  },
  {
   "cell_type": "markdown",
   "metadata": {},
   "source": [
    "По итогам проведённого исследования можно сделать следующие выводы:\n",
    "\n",
    "1. Доля пользователей, совершивших целевое действие (оплата), растёт со сложностью выбираемых вопросов.\n",
    "   Среди пользователей, выбравших лёгкие вопросы, совершили оплату 7.72%.\n",
    "   Пользователи, выбравшие вопросы среднего уровня, докупали пакеты вопросов уже в 20.86% случаев.\n",
    "   Тогда как пользователи, выбиравшие сложные вопросы, совершали покупки в 35.39% случаев.\n",
    "\n",
    "   Соответственно, вероятность оплаты напрямую зависит от сложности выбираемых пользователем вопросов.\n",
    "   \n",
    "\n",
    "2. Напротив, при исследовании среднего времени между регистрацией или выбором уровня сложности и совершением покупки среди групп\n",
    "   пользователей, выбиравших лёгкие, средние или тяжелые вопросы, не было замечено существенной разницы.\n",
    "   Да, пользователи, отвечавшие на наиболее сложные вопросы, доходили до покупки в среднем на несколько часов быстрее, но наиболее долгий путь к оплате был у пользователей, выбиравших вопросы среднего уровня, а не лёгкого, как можно было бы предположить.\n",
    "\n",
    "   Соответственно, скорость оплаты не зависит от сложности выбираемых пользователем вопросов."
   ]
  }
 ],
 "metadata": {
  "interpreter": {
   "hash": "4b75131badef1596ad080b4035513623dfc25aaad4d3afc163cab39aca08d0d0"
  },
  "kernelspec": {
   "display_name": "Python 3.10.0 64-bit",
   "language": "python",
   "name": "python3"
  },
  "language_info": {
   "codemirror_mode": {
    "name": "ipython",
    "version": 3
   },
   "file_extension": ".py",
   "mimetype": "text/x-python",
   "name": "python",
   "nbconvert_exporter": "python",
   "pygments_lexer": "ipython3",
   "version": "3.10.0"
  },
  "orig_nbformat": 4
 },
 "nbformat": 4,
 "nbformat_minor": 2
}
